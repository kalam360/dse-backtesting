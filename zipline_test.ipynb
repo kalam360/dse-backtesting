{
 "cells": [
  {
   "cell_type": "code",
   "execution_count": 2,
   "metadata": {},
   "outputs": [],
   "source": [
    "from zipline.data import bundles \n",
    "import pandas as pd\n",
    "from zipline.data.data_portal import DataPortal"
   ]
  },
  {
   "cell_type": "code",
   "execution_count": 3,
   "metadata": {},
   "outputs": [],
   "source": [
    "import os\n",
    "\n",
    "from zipline.utils.run_algo import load_extensions\n",
    "from zipline.utils.calendar_utils import register_calendar, get_calendar\n",
    "\n",
    "load_extensions(\n",
    "    default=True,\n",
    "    extensions=[],\n",
    "    strict=True,\n",
    "    environ=os.environ,\n",
    ")"
   ]
  },
  {
   "cell_type": "code",
   "execution_count": 4,
   "metadata": {},
   "outputs": [],
   "source": [
    "from zipline.pipeline.loaders import USEquityPricingLoader"
   ]
  },
  {
   "cell_type": "code",
   "execution_count": 5,
   "metadata": {},
   "outputs": [],
   "source": [
    "data = bundles.load('adjusted-dse-csvdir')\n",
    "trading_calendar = get_calendar('XDSE')"
   ]
  },
  {
   "cell_type": "code",
   "execution_count": 6,
   "metadata": {},
   "outputs": [],
   "source": [
    "data_portal = DataPortal(\n",
    "    data.asset_finder,\n",
    "    trading_calendar= trading_calendar,\n",
    "    first_trading_day=data.equity_daily_bar_reader.first_trading_day,\n",
    "    equity_daily_reader=data.equity_daily_bar_reader,\n",
    "    adjustment_reader=data.adjustment_reader\n",
    ")"
   ]
  },
  {
   "cell_type": "code",
   "execution_count": 7,
   "metadata": {},
   "outputs": [],
   "source": [
    "def get_pricing(assets, start_date, end_date, fields='close', trading_calendar=None):\n",
    "    \"\"\"\n",
    "    Approximate Quantopian function `get_pricing` available\n",
    "    in online environment at quantopian.com\n",
    "    \"\"\"\n",
    "    if trading_calendar is None:\n",
    "        trading_calendar = get_calendar(\"NYSE\")\n",
    "    \n",
    "    # Set the given start and end dates to Timestamps.\n",
    "    end_date = pd.Timestamp(end_date, tz='utc')\n",
    "    start_date = pd.Timestamp(start_date, tz='utc')\n",
    "\n",
    "    # Get the locations of the start and end dates\n",
    "    sessions = trading_calendar.sessions_in_range(start_date, end_date)\n",
    "    bar_count = len(sessions)\n",
    "    \n",
    "    # Get identifiers for asset symbols\n",
    "    equities = data.asset_finder.lookup_symbols(assets, start_date)\n",
    "\n",
    "    # return the historical data for the given window\n",
    "    return data_portal.get_history_window(\n",
    "                            assets=equities,\n",
    "                            end_dt=end_date,\n",
    "                            bar_count=bar_count,\n",
    "                            frequency='1d',\n",
    "                            field=fields,\n",
    "                            data_frequency='daily')"
   ]
  },
  {
   "cell_type": "code",
   "execution_count": 8,
   "metadata": {},
   "outputs": [
    {
     "ename": "TypeError",
     "evalue": "get_pricing() missing 2 required positional arguments: 'start_date' and 'end_date'",
     "output_type": "error",
     "traceback": [
      "\u001b[0;31m---------------------------------------------------------------------------\u001b[0m",
      "\u001b[0;31mTypeError\u001b[0m                                 Traceback (most recent call last)",
      "\u001b[1;32m/home/ubuntu/quant-fund/backtesting/zipline_test.ipynb Cell 7'\u001b[0m in \u001b[0;36m<module>\u001b[0;34m\u001b[0m\n\u001b[0;32m----> <a href='vscode-notebook-cell://ssh-remote%2Bec2-65-1-166-253.ap-south-1.compute.amazonaws.com/home/ubuntu/quant-fund/backtesting/zipline_test.ipynb#ch0000006vscode-remote?line=0'>1</a>\u001b[0m df \u001b[39m=\u001b[39m get_pricing([\u001b[39m\"\u001b[39;49m\u001b[39mACFL\u001b[39;49m\u001b[39m\"\u001b[39;49m], fields\u001b[39m=\u001b[39;49m\u001b[39m'\u001b[39;49m\u001b[39mopen\u001b[39;49m\u001b[39m'\u001b[39;49m)\n",
      "\u001b[0;31mTypeError\u001b[0m: get_pricing() missing 2 required positional arguments: 'start_date' and 'end_date'"
     ]
    }
   ],
   "source": [
    "df = get_pricing([\"ACFL\"], fields='open')"
   ]
  },
  {
   "cell_type": "code",
   "execution_count": 15,
   "metadata": {},
   "outputs": [
    {
     "data": {
      "text/html": [
       "<div>\n",
       "<style scoped>\n",
       "    .dataframe tbody tr th:only-of-type {\n",
       "        vertical-align: middle;\n",
       "    }\n",
       "\n",
       "    .dataframe tbody tr th {\n",
       "        vertical-align: top;\n",
       "    }\n",
       "\n",
       "    .dataframe thead th {\n",
       "        text-align: right;\n",
       "    }\n",
       "</style>\n",
       "<table border=\"1\" class=\"dataframe\">\n",
       "  <thead>\n",
       "    <tr style=\"text-align: right;\">\n",
       "      <th></th>\n",
       "      <th>Equity(1 [ACFL])</th>\n",
       "    </tr>\n",
       "  </thead>\n",
       "  <tbody>\n",
       "    <tr>\n",
       "      <th>2018-09-10 00:00:00+00:00</th>\n",
       "      <td>44.427</td>\n",
       "    </tr>\n",
       "    <tr>\n",
       "      <th>2018-09-11 00:00:00+00:00</th>\n",
       "      <td>45.289</td>\n",
       "    </tr>\n",
       "    <tr>\n",
       "      <th>2018-09-12 00:00:00+00:00</th>\n",
       "      <td>45.289</td>\n",
       "    </tr>\n",
       "    <tr>\n",
       "      <th>2018-09-13 00:00:00+00:00</th>\n",
       "      <td>48.222</td>\n",
       "    </tr>\n",
       "    <tr>\n",
       "      <th>2018-09-16 00:00:00+00:00</th>\n",
       "      <td>49.603</td>\n",
       "    </tr>\n",
       "    <tr>\n",
       "      <th>...</th>\n",
       "      <td>...</td>\n",
       "    </tr>\n",
       "    <tr>\n",
       "      <th>2021-12-26 00:00:00+00:00</th>\n",
       "      <td>30.000</td>\n",
       "    </tr>\n",
       "    <tr>\n",
       "      <th>2021-12-27 00:00:00+00:00</th>\n",
       "      <td>29.400</td>\n",
       "    </tr>\n",
       "    <tr>\n",
       "      <th>2021-12-28 00:00:00+00:00</th>\n",
       "      <td>28.600</td>\n",
       "    </tr>\n",
       "    <tr>\n",
       "      <th>2021-12-29 00:00:00+00:00</th>\n",
       "      <td>31.000</td>\n",
       "    </tr>\n",
       "    <tr>\n",
       "      <th>2021-12-30 00:00:00+00:00</th>\n",
       "      <td>29.700</td>\n",
       "    </tr>\n",
       "  </tbody>\n",
       "</table>\n",
       "<p>756 rows × 1 columns</p>\n",
       "</div>"
      ],
      "text/plain": [
       "                           Equity(1 [ACFL])\n",
       "2018-09-10 00:00:00+00:00            44.427\n",
       "2018-09-11 00:00:00+00:00            45.289\n",
       "2018-09-12 00:00:00+00:00            45.289\n",
       "2018-09-13 00:00:00+00:00            48.222\n",
       "2018-09-16 00:00:00+00:00            49.603\n",
       "...                                     ...\n",
       "2021-12-26 00:00:00+00:00            30.000\n",
       "2021-12-27 00:00:00+00:00            29.400\n",
       "2021-12-28 00:00:00+00:00            28.600\n",
       "2021-12-29 00:00:00+00:00            31.000\n",
       "2021-12-30 00:00:00+00:00            29.700\n",
       "\n",
       "[756 rows x 1 columns]"
      ]
     },
     "execution_count": 15,
     "metadata": {},
     "output_type": "execute_result"
    }
   ],
   "source": [
    "df"
   ]
  },
  {
   "cell_type": "code",
   "execution_count": null,
   "metadata": {},
   "outputs": [],
   "source": []
  }
 ],
 "metadata": {
  "interpreter": {
   "hash": "be9ed0d7d8bcc8ce5c8fa05ffcfb736cc834fb351c82807799c10c658f6db9a3"
  },
  "kernelspec": {
   "display_name": "Python 3.8.10 ('venv': venv)",
   "language": "python",
   "name": "python3"
  },
  "language_info": {
   "codemirror_mode": {
    "name": "ipython",
    "version": 3
   },
   "file_extension": ".py",
   "mimetype": "text/x-python",
   "name": "python",
   "nbconvert_exporter": "python",
   "pygments_lexer": "ipython3",
   "version": "3.8.10"
  },
  "orig_nbformat": 4
 },
 "nbformat": 4,
 "nbformat_minor": 2
}
