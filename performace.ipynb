{
 "cells": [
  {
   "cell_type": "code",
   "execution_count": 1,
   "metadata": {},
   "outputs": [],
   "source": [
    "import pandas as pd\n"
   ]
  },
  {
   "cell_type": "code",
   "execution_count": 3,
   "metadata": {},
   "outputs": [
    {
     "data": {
      "text/html": [
       "<div>\n",
       "<style scoped>\n",
       "    .dataframe tbody tr th:only-of-type {\n",
       "        vertical-align: middle;\n",
       "    }\n",
       "\n",
       "    .dataframe tbody tr th {\n",
       "        vertical-align: top;\n",
       "    }\n",
       "\n",
       "    .dataframe thead th {\n",
       "        text-align: right;\n",
       "    }\n",
       "</style>\n",
       "<table border=\"1\" class=\"dataframe\">\n",
       "  <thead>\n",
       "    <tr style=\"text-align: right;\">\n",
       "      <th></th>\n",
       "      <th>period_open</th>\n",
       "      <th>period_close</th>\n",
       "      <th>starting_value</th>\n",
       "      <th>ending_value</th>\n",
       "      <th>starting_cash</th>\n",
       "      <th>ending_cash</th>\n",
       "      <th>portfolio_value</th>\n",
       "      <th>returns</th>\n",
       "      <th>longs_count</th>\n",
       "      <th>shorts_count</th>\n",
       "      <th>...</th>\n",
       "      <th>period_label</th>\n",
       "      <th>algorithm_period_return</th>\n",
       "      <th>algo_volatility</th>\n",
       "      <th>benchmark_period_return</th>\n",
       "      <th>benchmark_volatility</th>\n",
       "      <th>alpha</th>\n",
       "      <th>beta</th>\n",
       "      <th>BATBC</th>\n",
       "      <th>short_mavg</th>\n",
       "      <th>long_mavg</th>\n",
       "    </tr>\n",
       "  </thead>\n",
       "  <tbody>\n",
       "    <tr>\n",
       "      <th>2014-01-01 08:29:00+00:00</th>\n",
       "      <td>2014-01-01 04:01:00+00:00</td>\n",
       "      <td>2014-01-01 08:29:00+00:00</td>\n",
       "      <td>0.0</td>\n",
       "      <td>0.0</td>\n",
       "      <td>10000000.0</td>\n",
       "      <td>10000000.0</td>\n",
       "      <td>10000000.0</td>\n",
       "      <td>0.0</td>\n",
       "      <td>0</td>\n",
       "      <td>0</td>\n",
       "      <td>...</td>\n",
       "      <td>2014-01</td>\n",
       "      <td>0.0</td>\n",
       "      <td>NaN</td>\n",
       "      <td>0.0</td>\n",
       "      <td>NaN</td>\n",
       "      <td>None</td>\n",
       "      <td>None</td>\n",
       "      <td>NaN</td>\n",
       "      <td>NaN</td>\n",
       "      <td>NaN</td>\n",
       "    </tr>\n",
       "    <tr>\n",
       "      <th>2014-01-02 08:29:00+00:00</th>\n",
       "      <td>2014-01-02 04:01:00+00:00</td>\n",
       "      <td>2014-01-02 08:29:00+00:00</td>\n",
       "      <td>0.0</td>\n",
       "      <td>0.0</td>\n",
       "      <td>10000000.0</td>\n",
       "      <td>10000000.0</td>\n",
       "      <td>10000000.0</td>\n",
       "      <td>0.0</td>\n",
       "      <td>0</td>\n",
       "      <td>0</td>\n",
       "      <td>...</td>\n",
       "      <td>2014-01</td>\n",
       "      <td>0.0</td>\n",
       "      <td>0.0</td>\n",
       "      <td>0.0</td>\n",
       "      <td>0.0</td>\n",
       "      <td>None</td>\n",
       "      <td>None</td>\n",
       "      <td>NaN</td>\n",
       "      <td>NaN</td>\n",
       "      <td>NaN</td>\n",
       "    </tr>\n",
       "    <tr>\n",
       "      <th>2014-01-06 08:29:00+00:00</th>\n",
       "      <td>2014-01-06 04:01:00+00:00</td>\n",
       "      <td>2014-01-06 08:29:00+00:00</td>\n",
       "      <td>0.0</td>\n",
       "      <td>0.0</td>\n",
       "      <td>10000000.0</td>\n",
       "      <td>10000000.0</td>\n",
       "      <td>10000000.0</td>\n",
       "      <td>0.0</td>\n",
       "      <td>0</td>\n",
       "      <td>0</td>\n",
       "      <td>...</td>\n",
       "      <td>2014-01</td>\n",
       "      <td>0.0</td>\n",
       "      <td>0.0</td>\n",
       "      <td>0.0</td>\n",
       "      <td>0.0</td>\n",
       "      <td>None</td>\n",
       "      <td>None</td>\n",
       "      <td>NaN</td>\n",
       "      <td>NaN</td>\n",
       "      <td>NaN</td>\n",
       "    </tr>\n",
       "    <tr>\n",
       "      <th>2014-01-07 08:29:00+00:00</th>\n",
       "      <td>2014-01-07 04:01:00+00:00</td>\n",
       "      <td>2014-01-07 08:29:00+00:00</td>\n",
       "      <td>0.0</td>\n",
       "      <td>0.0</td>\n",
       "      <td>10000000.0</td>\n",
       "      <td>10000000.0</td>\n",
       "      <td>10000000.0</td>\n",
       "      <td>0.0</td>\n",
       "      <td>0</td>\n",
       "      <td>0</td>\n",
       "      <td>...</td>\n",
       "      <td>2014-01</td>\n",
       "      <td>0.0</td>\n",
       "      <td>0.0</td>\n",
       "      <td>0.0</td>\n",
       "      <td>0.0</td>\n",
       "      <td>None</td>\n",
       "      <td>None</td>\n",
       "      <td>NaN</td>\n",
       "      <td>NaN</td>\n",
       "      <td>NaN</td>\n",
       "    </tr>\n",
       "    <tr>\n",
       "      <th>2014-01-08 08:29:00+00:00</th>\n",
       "      <td>2014-01-08 04:01:00+00:00</td>\n",
       "      <td>2014-01-08 08:29:00+00:00</td>\n",
       "      <td>0.0</td>\n",
       "      <td>0.0</td>\n",
       "      <td>10000000.0</td>\n",
       "      <td>10000000.0</td>\n",
       "      <td>10000000.0</td>\n",
       "      <td>0.0</td>\n",
       "      <td>0</td>\n",
       "      <td>0</td>\n",
       "      <td>...</td>\n",
       "      <td>2014-01</td>\n",
       "      <td>0.0</td>\n",
       "      <td>0.0</td>\n",
       "      <td>0.0</td>\n",
       "      <td>0.0</td>\n",
       "      <td>None</td>\n",
       "      <td>None</td>\n",
       "      <td>NaN</td>\n",
       "      <td>NaN</td>\n",
       "      <td>NaN</td>\n",
       "    </tr>\n",
       "  </tbody>\n",
       "</table>\n",
       "<p>5 rows × 40 columns</p>\n",
       "</div>"
      ],
      "text/plain": [
       "                                        period_open              period_close  \\\n",
       "2014-01-01 08:29:00+00:00 2014-01-01 04:01:00+00:00 2014-01-01 08:29:00+00:00   \n",
       "2014-01-02 08:29:00+00:00 2014-01-02 04:01:00+00:00 2014-01-02 08:29:00+00:00   \n",
       "2014-01-06 08:29:00+00:00 2014-01-06 04:01:00+00:00 2014-01-06 08:29:00+00:00   \n",
       "2014-01-07 08:29:00+00:00 2014-01-07 04:01:00+00:00 2014-01-07 08:29:00+00:00   \n",
       "2014-01-08 08:29:00+00:00 2014-01-08 04:01:00+00:00 2014-01-08 08:29:00+00:00   \n",
       "\n",
       "                           starting_value  ending_value  starting_cash  \\\n",
       "2014-01-01 08:29:00+00:00             0.0           0.0     10000000.0   \n",
       "2014-01-02 08:29:00+00:00             0.0           0.0     10000000.0   \n",
       "2014-01-06 08:29:00+00:00             0.0           0.0     10000000.0   \n",
       "2014-01-07 08:29:00+00:00             0.0           0.0     10000000.0   \n",
       "2014-01-08 08:29:00+00:00             0.0           0.0     10000000.0   \n",
       "\n",
       "                           ending_cash  portfolio_value  returns  longs_count  \\\n",
       "2014-01-01 08:29:00+00:00   10000000.0       10000000.0      0.0            0   \n",
       "2014-01-02 08:29:00+00:00   10000000.0       10000000.0      0.0            0   \n",
       "2014-01-06 08:29:00+00:00   10000000.0       10000000.0      0.0            0   \n",
       "2014-01-07 08:29:00+00:00   10000000.0       10000000.0      0.0            0   \n",
       "2014-01-08 08:29:00+00:00   10000000.0       10000000.0      0.0            0   \n",
       "\n",
       "                           shorts_count  ...  period_label  \\\n",
       "2014-01-01 08:29:00+00:00             0  ...       2014-01   \n",
       "2014-01-02 08:29:00+00:00             0  ...       2014-01   \n",
       "2014-01-06 08:29:00+00:00             0  ...       2014-01   \n",
       "2014-01-07 08:29:00+00:00             0  ...       2014-01   \n",
       "2014-01-08 08:29:00+00:00             0  ...       2014-01   \n",
       "\n",
       "                           algorithm_period_return  algo_volatility  \\\n",
       "2014-01-01 08:29:00+00:00                      0.0              NaN   \n",
       "2014-01-02 08:29:00+00:00                      0.0              0.0   \n",
       "2014-01-06 08:29:00+00:00                      0.0              0.0   \n",
       "2014-01-07 08:29:00+00:00                      0.0              0.0   \n",
       "2014-01-08 08:29:00+00:00                      0.0              0.0   \n",
       "\n",
       "                           benchmark_period_return  benchmark_volatility  \\\n",
       "2014-01-01 08:29:00+00:00                      0.0                   NaN   \n",
       "2014-01-02 08:29:00+00:00                      0.0                   0.0   \n",
       "2014-01-06 08:29:00+00:00                      0.0                   0.0   \n",
       "2014-01-07 08:29:00+00:00                      0.0                   0.0   \n",
       "2014-01-08 08:29:00+00:00                      0.0                   0.0   \n",
       "\n",
       "                           alpha  beta BATBC  short_mavg long_mavg  \n",
       "2014-01-01 08:29:00+00:00   None  None   NaN         NaN       NaN  \n",
       "2014-01-02 08:29:00+00:00   None  None   NaN         NaN       NaN  \n",
       "2014-01-06 08:29:00+00:00   None  None   NaN         NaN       NaN  \n",
       "2014-01-07 08:29:00+00:00   None  None   NaN         NaN       NaN  \n",
       "2014-01-08 08:29:00+00:00   None  None   NaN         NaN       NaN  \n",
       "\n",
       "[5 rows x 40 columns]"
      ]
     },
     "execution_count": 3,
     "metadata": {},
     "output_type": "execute_result"
    }
   ],
   "source": [
    "perf = pd.read_pickle(\"./strategies/dma.pickle\")\n",
    "perf.head()"
   ]
  },
  {
   "cell_type": "code",
   "execution_count": 4,
   "metadata": {},
   "outputs": [
    {
     "data": {
      "text/plain": [
       "<AxesSubplot:>"
      ]
     },
     "execution_count": 4,
     "metadata": {},
     "output_type": "execute_result"
    },
    {
     "data": {
      "image/png": "[encoded data removed]",
      "text/plain": [
       "<Figure size 432x288 with 1 Axes>"
      ]
     },
     "metadata": {
      "needs_background": "light"
     },
     "output_type": "display_data"
    }
   ],
   "source": [
    "perf.portfolio_value.plot()"
   ]
  },
  {
   "cell_type": "code",
   "execution_count": 5,
   "metadata": {},
   "outputs": [
    {
     "data": {
      "text/plain": [
       "<AxesSubplot:>"
      ]
     },
     "execution_count": 5,
     "metadata": {},
     "output_type": "execute_result"
    },
    {
     "data": {
      "image/png": "[encoded data removed]",
      "text/plain": [
       "<Figure size 432x288 with 1 Axes>"
      ]
     },
     "metadata": {
      "needs_background": "light"
     },
     "output_type": "display_data"
    }
   ],
   "source": [
    "perf.BATBC.plot()"
   ]
  },
  {
   "cell_type": "code",
   "execution_count": 7,
   "metadata": {},
   "outputs": [],
   "source": [
    "perf.to_csv(\"./strategies/perf.csv\")"
   ]
  },
  {
   "cell_type": "code",
   "execution_count": 11,
   "metadata": {},
   "outputs": [
    {
     "name": "stdout",
     "output_type": "stream",
     "text": [
      "[{'id': '5934ccc4745d4b6fbf37d2eaa79ed0cf', 'dt': Timestamp('2015-04-01 08:29:00+0000', tz='UTC'), 'reason': None, 'created': Timestamp('2015-04-01 08:29:00+0000', tz='UTC'), 'amount': 100, 'filled': 0, 'commission': 0, 'stop': None, 'limit': None, 'stop_reached': False, 'limit_reached': False, 'sid': Equity(16 [BATBC]), 'status': <ORDER_STATUS.OPEN: 0>}]\n",
      "[{'id': '5934ccc4745d4b6fbf37d2eaa79ed0cf', 'dt': Timestamp('2015-04-02 08:29:00+0000', tz='UTC'), 'reason': None, 'created': Timestamp('2015-04-01 08:29:00+0000', tz='UTC'), 'amount': 100, 'filled': 100, 'commission': 0.1, 'stop': None, 'limit': None, 'stop_reached': False, 'limit_reached': False, 'sid': Equity(16 [BATBC]), 'status': <ORDER_STATUS.FILLED: 1>}]\n",
      "[{'id': '879b9fc3cfff44ebb07b8db818d045c1', 'dt': Timestamp('2016-02-14 08:29:00+0000', tz='UTC'), 'reason': None, 'created': Timestamp('2016-02-14 08:29:00+0000', tz='UTC'), 'amount': -100, 'filled': 0, 'commission': 0, 'stop': None, 'limit': None, 'stop_reached': False, 'limit_reached': False, 'sid': Equity(16 [BATBC]), 'status': <ORDER_STATUS.OPEN: 0>}]\n",
      "[{'id': '879b9fc3cfff44ebb07b8db818d045c1', 'dt': Timestamp('2016-02-15 08:29:00+0000', tz='UTC'), 'reason': None, 'created': Timestamp('2016-02-14 08:29:00+0000', tz='UTC'), 'amount': -100, 'filled': -100, 'commission': 0.1, 'stop': None, 'limit': None, 'stop_reached': False, 'limit_reached': False, 'sid': Equity(16 [BATBC]), 'status': <ORDER_STATUS.FILLED: 1>}]\n",
      "[{'id': '1a29dcc4f46840fabbee55d940b8eda8', 'dt': Timestamp('2017-06-13 08:29:00+0000', tz='UTC'), 'reason': None, 'created': Timestamp('2017-06-13 08:29:00+0000', tz='UTC'), 'amount': 100, 'filled': 0, 'commission': 0, 'stop': None, 'limit': None, 'stop_reached': False, 'limit_reached': False, 'sid': Equity(16 [BATBC]), 'status': <ORDER_STATUS.OPEN: 0>}]\n",
      "[{'id': '1a29dcc4f46840fabbee55d940b8eda8', 'dt': Timestamp('2017-06-14 08:29:00+0000', tz='UTC'), 'reason': None, 'created': Timestamp('2017-06-13 08:29:00+0000', tz='UTC'), 'amount': 100, 'filled': 100, 'commission': 0.1, 'stop': None, 'limit': None, 'stop_reached': False, 'limit_reached': False, 'sid': Equity(16 [BATBC]), 'status': <ORDER_STATUS.FILLED: 1>}]\n"
     ]
    }
   ],
   "source": [
    "for each in perf.orders:\n",
    "    if len(each) != 0:\n",
    "        print(each)"
   ]
  },
  {
   "cell_type": "code",
   "execution_count": null,
   "metadata": {},
   "outputs": [],
   "source": []
  }
 ],
 "metadata": {
  "interpreter": {
   "hash": "be9ed0d7d8bcc8ce5c8fa05ffcfb736cc834fb351c82807799c10c658f6db9a3"
  },
  "kernelspec": {
   "display_name": "Python 3.8.10 ('venv': venv)",
   "language": "python",
   "name": "python3"
  },
  "language_info": {
   "codemirror_mode": {
    "name": "ipython",
    "version": 3
   },
   "file_extension": ".py",
   "mimetype": "text/x-python",
   "name": "python",
   "nbconvert_exporter": "python",
   "pygments_lexer": "ipython3",
   "version": "3.8.10"
  },
  "orig_nbformat": 4
 },
 "nbformat": 4,
 "nbformat_minor": 2
}
