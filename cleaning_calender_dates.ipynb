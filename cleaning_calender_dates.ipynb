{
 "cells": [
  {
   "cell_type": "code",
   "execution_count": 68,
   "metadata": {},
   "outputs": [],
   "source": [
    "import pandas as pd\n",
    "import numpy as np\n",
    "from glob import glob\n"
   ]
  },
  {
   "cell_type": "code",
   "execution_count": 2,
   "metadata": {},
   "outputs": [],
   "source": [
    "import os\n",
    "\n",
    "from zipline.utils.run_algo import load_extensions\n",
    "from zipline.utils.calendar_utils import register_calendar, get_calendar\n",
    "\n",
    "load_extensions(\n",
    "    default=True,\n",
    "    extensions=[],\n",
    "    strict=True,\n",
    "    environ=os.environ,\n",
    ")"
   ]
  },
  {
   "cell_type": "code",
   "execution_count": 3,
   "metadata": {},
   "outputs": [],
   "source": [
    "xdse = get_calendar(\"XDSE\")"
   ]
  },
  {
   "cell_type": "code",
   "execution_count": 13,
   "metadata": {},
   "outputs": [
    {
     "data": {
      "text/plain": [
       "2365"
      ]
     },
     "execution_count": 13,
     "metadata": {},
     "output_type": "execute_result"
    }
   ],
   "source": [
    "dates = xdse.schedule.loc[\"2012\": \"2021\"].market_close.index\n"
   ]
  },
  {
   "cell_type": "code",
   "execution_count": 10,
   "metadata": {},
   "outputs": [],
   "source": [
    "df = pd.read_csv(\"./dse_bundles/data/daily/BATBC.csv\", index_col='date', parse_dates=True)"
   ]
  },
  {
   "cell_type": "code",
   "execution_count": 12,
   "metadata": {},
   "outputs": [
    {
     "data": {
      "text/plain": [
       "DatetimeIndex(['2012-01-01', '2012-01-02', '2012-01-03', '2012-01-04',\n",
       "               '2012-01-05', '2012-01-08', '2012-01-09', '2012-01-10',\n",
       "               '2012-01-11', '2012-01-12',\n",
       "               ...\n",
       "               '2021-12-19', '2021-12-20', '2021-12-21', '2021-12-22',\n",
       "               '2021-12-23', '2021-12-26', '2021-12-27', '2021-12-28',\n",
       "               '2021-12-29', '2021-12-30'],\n",
       "              dtype='datetime64[ns]', name='date', length=2365, freq=None)"
      ]
     },
     "execution_count": 12,
     "metadata": {},
     "output_type": "execute_result"
    }
   ],
   "source": [
    "df.index"
   ]
  },
  {
   "cell_type": "code",
   "execution_count": 20,
   "metadata": {},
   "outputs": [],
   "source": [
    "dates = pd.to_datetime(dates.date)"
   ]
  },
  {
   "cell_type": "code",
   "execution_count": 21,
   "metadata": {},
   "outputs": [
    {
     "data": {
      "text/html": [
       "<div>\n",
       "<style scoped>\n",
       "    .dataframe tbody tr th:only-of-type {\n",
       "        vertical-align: middle;\n",
       "    }\n",
       "\n",
       "    .dataframe tbody tr th {\n",
       "        vertical-align: top;\n",
       "    }\n",
       "\n",
       "    .dataframe thead th {\n",
       "        text-align: right;\n",
       "    }\n",
       "</style>\n",
       "<table border=\"1\" class=\"dataframe\">\n",
       "  <thead>\n",
       "    <tr style=\"text-align: right;\">\n",
       "      <th></th>\n",
       "      <th>open</th>\n",
       "      <th>high</th>\n",
       "      <th>low</th>\n",
       "      <th>close</th>\n",
       "      <th>volume</th>\n",
       "    </tr>\n",
       "  </thead>\n",
       "  <tbody>\n",
       "    <tr>\n",
       "      <th>2012-01-01</th>\n",
       "      <td>42.054283</td>\n",
       "      <td>42.054283</td>\n",
       "      <td>41.225232</td>\n",
       "      <td>41.907193</td>\n",
       "      <td>24255.0</td>\n",
       "    </tr>\n",
       "    <tr>\n",
       "      <th>2012-01-02</th>\n",
       "      <td>41.472610</td>\n",
       "      <td>41.472610</td>\n",
       "      <td>41.218546</td>\n",
       "      <td>41.405751</td>\n",
       "      <td>25740.0</td>\n",
       "    </tr>\n",
       "    <tr>\n",
       "      <th>2012-01-03</th>\n",
       "      <td>41.325520</td>\n",
       "      <td>41.673187</td>\n",
       "      <td>41.318834</td>\n",
       "      <td>41.439180</td>\n",
       "      <td>37125.0</td>\n",
       "    </tr>\n",
       "    <tr>\n",
       "      <th>2012-01-04</th>\n",
       "      <td>41.385693</td>\n",
       "      <td>41.719988</td>\n",
       "      <td>41.385693</td>\n",
       "      <td>41.512725</td>\n",
       "      <td>73755.0</td>\n",
       "    </tr>\n",
       "    <tr>\n",
       "      <th>2012-01-05</th>\n",
       "      <td>41.619700</td>\n",
       "      <td>41.619700</td>\n",
       "      <td>41.318834</td>\n",
       "      <td>41.419123</td>\n",
       "      <td>31680.0</td>\n",
       "    </tr>\n",
       "    <tr>\n",
       "      <th>...</th>\n",
       "      <td>...</td>\n",
       "      <td>...</td>\n",
       "      <td>...</td>\n",
       "      <td>...</td>\n",
       "      <td>...</td>\n",
       "    </tr>\n",
       "    <tr>\n",
       "      <th>2021-12-26</th>\n",
       "      <td>639.000000</td>\n",
       "      <td>639.000000</td>\n",
       "      <td>625.100000</td>\n",
       "      <td>627.200000</td>\n",
       "      <td>207369.0</td>\n",
       "    </tr>\n",
       "    <tr>\n",
       "      <th>2021-12-27</th>\n",
       "      <td>626.300000</td>\n",
       "      <td>633.700000</td>\n",
       "      <td>622.500000</td>\n",
       "      <td>623.800000</td>\n",
       "      <td>167286.0</td>\n",
       "    </tr>\n",
       "    <tr>\n",
       "      <th>2021-12-28</th>\n",
       "      <td>624.000000</td>\n",
       "      <td>640.000000</td>\n",
       "      <td>624.000000</td>\n",
       "      <td>637.200000</td>\n",
       "      <td>88461.0</td>\n",
       "    </tr>\n",
       "    <tr>\n",
       "      <th>2021-12-29</th>\n",
       "      <td>640.000000</td>\n",
       "      <td>647.000000</td>\n",
       "      <td>630.800000</td>\n",
       "      <td>634.500000</td>\n",
       "      <td>120326.0</td>\n",
       "    </tr>\n",
       "    <tr>\n",
       "      <th>2021-12-30</th>\n",
       "      <td>634.800000</td>\n",
       "      <td>639.800000</td>\n",
       "      <td>632.700000</td>\n",
       "      <td>635.600000</td>\n",
       "      <td>95882.0</td>\n",
       "    </tr>\n",
       "  </tbody>\n",
       "</table>\n",
       "<p>2365 rows × 5 columns</p>\n",
       "</div>"
      ],
      "text/plain": [
       "                  open        high         low       close    volume\n",
       "2012-01-01   42.054283   42.054283   41.225232   41.907193   24255.0\n",
       "2012-01-02   41.472610   41.472610   41.218546   41.405751   25740.0\n",
       "2012-01-03   41.325520   41.673187   41.318834   41.439180   37125.0\n",
       "2012-01-04   41.385693   41.719988   41.385693   41.512725   73755.0\n",
       "2012-01-05   41.619700   41.619700   41.318834   41.419123   31680.0\n",
       "...                ...         ...         ...         ...       ...\n",
       "2021-12-26  639.000000  639.000000  625.100000  627.200000  207369.0\n",
       "2021-12-27  626.300000  633.700000  622.500000  623.800000  167286.0\n",
       "2021-12-28  624.000000  640.000000  624.000000  637.200000   88461.0\n",
       "2021-12-29  640.000000  647.000000  630.800000  634.500000  120326.0\n",
       "2021-12-30  634.800000  639.800000  632.700000  635.600000   95882.0\n",
       "\n",
       "[2365 rows x 5 columns]"
      ]
     },
     "execution_count": 21,
     "metadata": {},
     "output_type": "execute_result"
    }
   ],
   "source": [
    "df.loc[dates, :]"
   ]
  },
  {
   "cell_type": "code",
   "execution_count": 22,
   "metadata": {},
   "outputs": [],
   "source": [
    "acfl = pd.read_csv(\"./dse_bundles/data/daily/ACFL.csv\", index_col='date', parse_dates=True)"
   ]
  },
  {
   "cell_type": "code",
   "execution_count": 37,
   "metadata": {},
   "outputs": [],
   "source": [
    "start = pd.to_datetime(acfl.index[0].date()).tz_localize(\"UTC\")\n",
    "end = pd.to_datetime(acfl.index[-1].date()).tz_localize(\"UTC\")"
   ]
  },
  {
   "cell_type": "code",
   "execution_count": 38,
   "metadata": {},
   "outputs": [
    {
     "data": {
      "text/plain": [
       "Timestamp('2018-08-06 00:00:00+0000', tz='UTC')"
      ]
     },
     "execution_count": 38,
     "metadata": {},
     "output_type": "execute_result"
    }
   ],
   "source": [
    "start"
   ]
  },
  {
   "cell_type": "code",
   "execution_count": 39,
   "metadata": {},
   "outputs": [
    {
     "data": {
      "text/plain": [
       "Timestamp('2021-12-30 00:00:00+0000', tz='UTC')"
      ]
     },
     "execution_count": 39,
     "metadata": {},
     "output_type": "execute_result"
    }
   ],
   "source": [
    "end"
   ]
  },
  {
   "cell_type": "code",
   "execution_count": 59,
   "metadata": {},
   "outputs": [],
   "source": [
    "dates = pd.to_datetime(xdse.schedule.loc[start:end].index.date)\n",
    "temp_df = pd.DataFrame(index=dates, columns=acfl.columns)\n",
    "temp_df.loc[acfl.index, :] = acfl.values\n",
    "temp_df['volume'] = temp_df['volume'].fillna(0.0)\n",
    "temp_df = temp_df.fillna(method='ffill')"
   ]
  },
  {
   "cell_type": "code",
   "execution_count": 75,
   "metadata": {},
   "outputs": [
    {
     "data": {
      "text/html": [
       "<div>\n",
       "<style scoped>\n",
       "    .dataframe tbody tr th:only-of-type {\n",
       "        vertical-align: middle;\n",
       "    }\n",
       "\n",
       "    .dataframe tbody tr th {\n",
       "        vertical-align: top;\n",
       "    }\n",
       "\n",
       "    .dataframe thead th {\n",
       "        text-align: right;\n",
       "    }\n",
       "</style>\n",
       "<table border=\"1\" class=\"dataframe\">\n",
       "  <thead>\n",
       "    <tr style=\"text-align: right;\">\n",
       "      <th></th>\n",
       "      <th>open</th>\n",
       "      <th>high</th>\n",
       "      <th>low</th>\n",
       "      <th>close</th>\n",
       "      <th>volume</th>\n",
       "    </tr>\n",
       "    <tr>\n",
       "      <th>date</th>\n",
       "      <th></th>\n",
       "      <th></th>\n",
       "      <th></th>\n",
       "      <th></th>\n",
       "      <th></th>\n",
       "    </tr>\n",
       "  </thead>\n",
       "  <tbody>\n",
       "    <tr>\n",
       "      <th>2018-08-06</th>\n",
       "      <td>51.759140</td>\n",
       "      <td>69.874839</td>\n",
       "      <td>51.759140</td>\n",
       "      <td>64.095068</td>\n",
       "      <td>7084025.0</td>\n",
       "    </tr>\n",
       "    <tr>\n",
       "      <th>2018-08-07</th>\n",
       "      <td>65.475312</td>\n",
       "      <td>73.584244</td>\n",
       "      <td>65.475312</td>\n",
       "      <td>71.600144</td>\n",
       "      <td>1758603.0</td>\n",
       "    </tr>\n",
       "    <tr>\n",
       "      <th>2018-08-08</th>\n",
       "      <td>71.513879</td>\n",
       "      <td>73.239183</td>\n",
       "      <td>64.440129</td>\n",
       "      <td>64.612660</td>\n",
       "      <td>4417177.0</td>\n",
       "    </tr>\n",
       "    <tr>\n",
       "      <th>2018-08-09</th>\n",
       "      <td>63.836273</td>\n",
       "      <td>65.389047</td>\n",
       "      <td>58.487828</td>\n",
       "      <td>61.507111</td>\n",
       "      <td>2531795.0</td>\n",
       "    </tr>\n",
       "    <tr>\n",
       "      <th>2018-08-12</th>\n",
       "      <td>62.887355</td>\n",
       "      <td>62.887355</td>\n",
       "      <td>55.382280</td>\n",
       "      <td>55.468545</td>\n",
       "      <td>2267080.0</td>\n",
       "    </tr>\n",
       "    <tr>\n",
       "      <th>...</th>\n",
       "      <td>...</td>\n",
       "      <td>...</td>\n",
       "      <td>...</td>\n",
       "      <td>...</td>\n",
       "      <td>...</td>\n",
       "    </tr>\n",
       "    <tr>\n",
       "      <th>2021-12-26</th>\n",
       "      <td>30.000000</td>\n",
       "      <td>30.000000</td>\n",
       "      <td>28.700000</td>\n",
       "      <td>29.400000</td>\n",
       "      <td>98035.0</td>\n",
       "    </tr>\n",
       "    <tr>\n",
       "      <th>2021-12-27</th>\n",
       "      <td>29.400000</td>\n",
       "      <td>29.700000</td>\n",
       "      <td>28.100000</td>\n",
       "      <td>28.500000</td>\n",
       "      <td>112194.0</td>\n",
       "    </tr>\n",
       "    <tr>\n",
       "      <th>2021-12-28</th>\n",
       "      <td>28.600000</td>\n",
       "      <td>31.100000</td>\n",
       "      <td>28.600000</td>\n",
       "      <td>30.700000</td>\n",
       "      <td>109749.0</td>\n",
       "    </tr>\n",
       "    <tr>\n",
       "      <th>2021-12-29</th>\n",
       "      <td>31.000000</td>\n",
       "      <td>31.000000</td>\n",
       "      <td>29.800000</td>\n",
       "      <td>30.100000</td>\n",
       "      <td>192060.0</td>\n",
       "    </tr>\n",
       "    <tr>\n",
       "      <th>2021-12-30</th>\n",
       "      <td>29.700000</td>\n",
       "      <td>30.300000</td>\n",
       "      <td>29.600000</td>\n",
       "      <td>29.700000</td>\n",
       "      <td>74228.0</td>\n",
       "    </tr>\n",
       "  </tbody>\n",
       "</table>\n",
       "<p>773 rows × 5 columns</p>\n",
       "</div>"
      ],
      "text/plain": [
       "                 open       high        low      close     volume\n",
       "date                                                             \n",
       "2018-08-06  51.759140  69.874839  51.759140  64.095068  7084025.0\n",
       "2018-08-07  65.475312  73.584244  65.475312  71.600144  1758603.0\n",
       "2018-08-08  71.513879  73.239183  64.440129  64.612660  4417177.0\n",
       "2018-08-09  63.836273  65.389047  58.487828  61.507111  2531795.0\n",
       "2018-08-12  62.887355  62.887355  55.382280  55.468545  2267080.0\n",
       "...               ...        ...        ...        ...        ...\n",
       "2021-12-26  30.000000  30.000000  28.700000  29.400000    98035.0\n",
       "2021-12-27  29.400000  29.700000  28.100000  28.500000   112194.0\n",
       "2021-12-28  28.600000  31.100000  28.600000  30.700000   109749.0\n",
       "2021-12-29  31.000000  31.000000  29.800000  30.100000   192060.0\n",
       "2021-12-30  29.700000  30.300000  29.600000  29.700000    74228.0\n",
       "\n",
       "[773 rows x 5 columns]"
      ]
     },
     "execution_count": 75,
     "metadata": {},
     "output_type": "execute_result"
    }
   ],
   "source": [
    "acfl[acfl.index.isin(dates)]"
   ]
  },
  {
   "cell_type": "code",
   "execution_count": 73,
   "metadata": {},
   "outputs": [
    {
     "data": {
      "text/html": [
       "<div>\n",
       "<style scoped>\n",
       "    .dataframe tbody tr th:only-of-type {\n",
       "        vertical-align: middle;\n",
       "    }\n",
       "\n",
       "    .dataframe tbody tr th {\n",
       "        vertical-align: top;\n",
       "    }\n",
       "\n",
       "    .dataframe thead th {\n",
       "        text-align: right;\n",
       "    }\n",
       "</style>\n",
       "<table border=\"1\" class=\"dataframe\">\n",
       "  <thead>\n",
       "    <tr style=\"text-align: right;\">\n",
       "      <th></th>\n",
       "      <th>open</th>\n",
       "      <th>high</th>\n",
       "      <th>low</th>\n",
       "      <th>close</th>\n",
       "      <th>volume</th>\n",
       "    </tr>\n",
       "  </thead>\n",
       "  <tbody>\n",
       "    <tr>\n",
       "      <th>2018-08-06</th>\n",
       "      <td>51.759140</td>\n",
       "      <td>69.874839</td>\n",
       "      <td>51.759140</td>\n",
       "      <td>64.095068</td>\n",
       "      <td>7084025.0</td>\n",
       "    </tr>\n",
       "    <tr>\n",
       "      <th>2018-08-07</th>\n",
       "      <td>65.475312</td>\n",
       "      <td>73.584244</td>\n",
       "      <td>65.475312</td>\n",
       "      <td>71.600144</td>\n",
       "      <td>1758603.0</td>\n",
       "    </tr>\n",
       "    <tr>\n",
       "      <th>2018-08-08</th>\n",
       "      <td>71.513879</td>\n",
       "      <td>73.239183</td>\n",
       "      <td>64.440129</td>\n",
       "      <td>64.612660</td>\n",
       "      <td>4417177.0</td>\n",
       "    </tr>\n",
       "    <tr>\n",
       "      <th>2018-08-09</th>\n",
       "      <td>63.836273</td>\n",
       "      <td>65.389047</td>\n",
       "      <td>58.487828</td>\n",
       "      <td>61.507111</td>\n",
       "      <td>2531795.0</td>\n",
       "    </tr>\n",
       "    <tr>\n",
       "      <th>2018-08-12</th>\n",
       "      <td>62.887355</td>\n",
       "      <td>62.887355</td>\n",
       "      <td>55.382280</td>\n",
       "      <td>55.468545</td>\n",
       "      <td>2267080.0</td>\n",
       "    </tr>\n",
       "    <tr>\n",
       "      <th>...</th>\n",
       "      <td>...</td>\n",
       "      <td>...</td>\n",
       "      <td>...</td>\n",
       "      <td>...</td>\n",
       "      <td>...</td>\n",
       "    </tr>\n",
       "    <tr>\n",
       "      <th>2021-12-26</th>\n",
       "      <td>30.000000</td>\n",
       "      <td>30.000000</td>\n",
       "      <td>28.700000</td>\n",
       "      <td>29.400000</td>\n",
       "      <td>98035.0</td>\n",
       "    </tr>\n",
       "    <tr>\n",
       "      <th>2021-12-27</th>\n",
       "      <td>29.400000</td>\n",
       "      <td>29.700000</td>\n",
       "      <td>28.100000</td>\n",
       "      <td>28.500000</td>\n",
       "      <td>112194.0</td>\n",
       "    </tr>\n",
       "    <tr>\n",
       "      <th>2021-12-28</th>\n",
       "      <td>28.600000</td>\n",
       "      <td>31.100000</td>\n",
       "      <td>28.600000</td>\n",
       "      <td>30.700000</td>\n",
       "      <td>109749.0</td>\n",
       "    </tr>\n",
       "    <tr>\n",
       "      <th>2021-12-29</th>\n",
       "      <td>31.000000</td>\n",
       "      <td>31.000000</td>\n",
       "      <td>29.800000</td>\n",
       "      <td>30.100000</td>\n",
       "      <td>192060.0</td>\n",
       "    </tr>\n",
       "    <tr>\n",
       "      <th>2021-12-30</th>\n",
       "      <td>29.700000</td>\n",
       "      <td>30.300000</td>\n",
       "      <td>29.600000</td>\n",
       "      <td>29.700000</td>\n",
       "      <td>74228.0</td>\n",
       "    </tr>\n",
       "  </tbody>\n",
       "</table>\n",
       "<p>776 rows × 5 columns</p>\n",
       "</div>"
      ],
      "text/plain": [
       "                 open       high        low      close     volume\n",
       "2018-08-06  51.759140  69.874839  51.759140  64.095068  7084025.0\n",
       "2018-08-07  65.475312  73.584244  65.475312  71.600144  1758603.0\n",
       "2018-08-08  71.513879  73.239183  64.440129  64.612660  4417177.0\n",
       "2018-08-09  63.836273  65.389047  58.487828  61.507111  2531795.0\n",
       "2018-08-12  62.887355  62.887355  55.382280  55.468545  2267080.0\n",
       "...               ...        ...        ...        ...        ...\n",
       "2021-12-26  30.000000  30.000000  28.700000  29.400000    98035.0\n",
       "2021-12-27  29.400000  29.700000  28.100000  28.500000   112194.0\n",
       "2021-12-28  28.600000  31.100000  28.600000  30.700000   109749.0\n",
       "2021-12-29  31.000000  31.000000  29.800000  30.100000   192060.0\n",
       "2021-12-30  29.700000  30.300000  29.600000  29.700000    74228.0\n",
       "\n",
       "[776 rows x 5 columns]"
      ]
     },
     "execution_count": 73,
     "metadata": {},
     "output_type": "execute_result"
    }
   ],
   "source": [
    "temp_df"
   ]
  },
  {
   "cell_type": "code",
   "execution_count": 77,
   "metadata": {},
   "outputs": [],
   "source": [
    "files = glob('./dse_bundles/data_ex/daily/*')\n",
    "xdse = get_calendar('XDSE')\n",
    "for each in files:\n",
    "    f =  each.split(\"/\")[-1]\n",
    "    df = pd.read_csv(each, index_col='date', parse_dates=True)\n",
    "    start = pd.to_datetime(df.index[0].date()).tz_localize(\"UTC\")\n",
    "    end = pd.to_datetime(df.index[-1].date()).tz_localize(\"UTC\")\n",
    "    dates = pd.to_datetime(xdse.schedule[start:end].index.date)\n",
    "    temp_df = pd.DataFrame(index=dates, columns=df.columns)\n",
    "    df = df[df.index.isin(dates)]\n",
    "    temp_df.loc[df.index, :] = df.values\n",
    "    temp_df['volume'] = temp_df['volume'].fillna(0.0)\n",
    "    temp_df = temp_df.fillna(method='ffill')\n",
    "    temp_df.to_csv(f\"./dse_bundles/data/daily/{f}\")\n",
    "\n",
    "    \n"
   ]
  },
  {
   "cell_type": "code",
   "execution_count": null,
   "metadata": {},
   "outputs": [],
   "source": []
  }
 ],
 "metadata": {
  "interpreter": {
   "hash": "be9ed0d7d8bcc8ce5c8fa05ffcfb736cc834fb351c82807799c10c658f6db9a3"
  },
  "kernelspec": {
   "display_name": "Python 3.8.10 ('venv': venv)",
   "language": "python",
   "name": "python3"
  },
  "language_info": {
   "codemirror_mode": {
    "name": "ipython",
    "version": 3
   },
   "file_extension": ".py",
   "mimetype": "text/x-python",
   "name": "python",
   "nbconvert_exporter": "python",
   "pygments_lexer": "ipython3",
   "version": "3.8.10"
  },
  "orig_nbformat": 4
 },
 "nbformat": 4,
 "nbformat_minor": 2
}
