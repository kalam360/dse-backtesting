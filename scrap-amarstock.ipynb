{
 "cells": [
  {
   "cell_type": "code",
   "execution_count": 1,
   "metadata": {},
   "outputs": [],
   "source": [
    "from selenium import webdriver"
   ]
  },
  {
   "cell_type": "code",
   "execution_count": 5,
   "metadata": {},
   "outputs": [
    {
     "name": "stderr",
     "output_type": "stream",
     "text": [
      "/tmp/ipykernel_1356150/4023692737.py:5: DeprecationWarning: executable_path has been deprecated, please pass in a Service object\n",
      "  driver = webdriver.Chrome(executable_path=\"/home/ubuntu/quant-fund/backtesting/chrome/chromedriver\", chrome_options=options)\n",
      "/tmp/ipykernel_1356150/4023692737.py:5: DeprecationWarning: use options instead of chrome_options\n",
      "  driver = webdriver.Chrome(executable_path=\"/home/ubuntu/quant-fund/backtesting/chrome/chromedriver\", chrome_options=options)\n"
     ]
    },
    {
     "ename": "WebDriverException",
     "evalue": "Message: unknown error: cannot find Chrome binary\nStacktrace:\n#0 0x55c6ca782b33 <unknown>\n#1 0x55c6ca24b6d8 <unknown>\n#2 0x55c6ca26c7f9 <unknown>\n#3 0x55c6ca269fca <unknown>\n#4 0x55c6ca2a4e0a <unknown>\n#5 0x55c6ca29ef53 <unknown>\n#6 0x55c6ca274a0a <unknown>\n#7 0x55c6ca275ad5 <unknown>\n#8 0x55c6ca7b42fd <unknown>\n#9 0x55c6ca7cd4bb <unknown>\n#10 0x55c6ca7b60d5 <unknown>\n#11 0x55c6ca7ce145 <unknown>\n#12 0x55c6ca7a9aaf <unknown>\n#13 0x55c6ca7eaba8 <unknown>\n#14 0x55c6ca7ead28 <unknown>\n#15 0x55c6ca80548d <unknown>\n#16 0x7f86e6cb1609 <unknown>\n",
     "output_type": "error",
     "traceback": [
      "\u001b[0;31m---------------------------------------------------------------------------\u001b[0m",
      "\u001b[0;31mWebDriverException\u001b[0m                        Traceback (most recent call last)",
      "\u001b[1;32m/home/ubuntu/quant-fund/backtesting/scrap-amarstock.ipynb Cell 2'\u001b[0m in \u001b[0;36m<module>\u001b[0;34m\u001b[0m\n\u001b[1;32m      <a href='vscode-notebook-cell://ssh-remote%2Bec2-65-1-166-253.ap-south-1.compute.amazonaws.com/home/ubuntu/quant-fund/backtesting/scrap-amarstock.ipynb#ch0000001vscode-remote?line=2'>3</a>\u001b[0m options\u001b[39m.\u001b[39madd_experimental_option(\u001b[39m\"\u001b[39m\u001b[39mprefs\u001b[39m\u001b[39m\"\u001b[39m, prefs)\n\u001b[1;32m      <a href='vscode-notebook-cell://ssh-remote%2Bec2-65-1-166-253.ap-south-1.compute.amazonaws.com/home/ubuntu/quant-fund/backtesting/scrap-amarstock.ipynb#ch0000001vscode-remote?line=3'>4</a>\u001b[0m options\u001b[39m.\u001b[39mheadless \u001b[39m=\u001b[39m \u001b[39mTrue\u001b[39;00m\n\u001b[0;32m----> <a href='vscode-notebook-cell://ssh-remote%2Bec2-65-1-166-253.ap-south-1.compute.amazonaws.com/home/ubuntu/quant-fund/backtesting/scrap-amarstock.ipynb#ch0000001vscode-remote?line=4'>5</a>\u001b[0m driver \u001b[39m=\u001b[39m webdriver\u001b[39m.\u001b[39;49mChrome(executable_path\u001b[39m=\u001b[39;49m\u001b[39m\"\u001b[39;49m\u001b[39m/home/ubuntu/quant-fund/backtesting/chrome/chromedriver\u001b[39;49m\u001b[39m\"\u001b[39;49m, chrome_options\u001b[39m=\u001b[39;49moptions)\n",
      "File \u001b[0;32m~/quant-fund/backtesting/venv/lib/python3.8/site-packages/selenium/webdriver/chrome/webdriver.py:70\u001b[0m, in \u001b[0;36mWebDriver.__init__\u001b[0;34m(self, executable_path, port, options, service_args, desired_capabilities, service_log_path, chrome_options, service, keep_alive)\u001b[0m\n\u001b[1;32m     <a href='file:///~/quant-fund/backtesting/venv/lib/python3.8/site-packages/selenium/webdriver/chrome/webdriver.py?line=66'>67</a>\u001b[0m \u001b[39mif\u001b[39;00m \u001b[39mnot\u001b[39;00m service:\n\u001b[1;32m     <a href='file:///~/quant-fund/backtesting/venv/lib/python3.8/site-packages/selenium/webdriver/chrome/webdriver.py?line=67'>68</a>\u001b[0m     service \u001b[39m=\u001b[39m Service(executable_path, port, service_args, service_log_path)\n\u001b[0;32m---> <a href='file:///~/quant-fund/backtesting/venv/lib/python3.8/site-packages/selenium/webdriver/chrome/webdriver.py?line=69'>70</a>\u001b[0m \u001b[39msuper\u001b[39;49m(WebDriver, \u001b[39mself\u001b[39;49m)\u001b[39m.\u001b[39;49m\u001b[39m__init__\u001b[39;49m(DesiredCapabilities\u001b[39m.\u001b[39;49mCHROME[\u001b[39m'\u001b[39;49m\u001b[39mbrowserName\u001b[39;49m\u001b[39m'\u001b[39;49m], \u001b[39m\"\u001b[39;49m\u001b[39mgoog\u001b[39;49m\u001b[39m\"\u001b[39;49m,\n\u001b[1;32m     <a href='file:///~/quant-fund/backtesting/venv/lib/python3.8/site-packages/selenium/webdriver/chrome/webdriver.py?line=70'>71</a>\u001b[0m                                 port, options,\n\u001b[1;32m     <a href='file:///~/quant-fund/backtesting/venv/lib/python3.8/site-packages/selenium/webdriver/chrome/webdriver.py?line=71'>72</a>\u001b[0m                                 service_args, desired_capabilities,\n\u001b[1;32m     <a href='file:///~/quant-fund/backtesting/venv/lib/python3.8/site-packages/selenium/webdriver/chrome/webdriver.py?line=72'>73</a>\u001b[0m                                 service_log_path, service, keep_alive)\n",
      "File \u001b[0;32m~/quant-fund/backtesting/venv/lib/python3.8/site-packages/selenium/webdriver/chromium/webdriver.py:93\u001b[0m, in \u001b[0;36mChromiumDriver.__init__\u001b[0;34m(self, browser_name, vendor_prefix, port, options, service_args, desired_capabilities, service_log_path, service, keep_alive)\u001b[0m\n\u001b[1;32m     <a href='file:///~/quant-fund/backtesting/venv/lib/python3.8/site-packages/selenium/webdriver/chromium/webdriver.py?line=89'>90</a>\u001b[0m \u001b[39mself\u001b[39m\u001b[39m.\u001b[39mservice\u001b[39m.\u001b[39mstart()\n\u001b[1;32m     <a href='file:///~/quant-fund/backtesting/venv/lib/python3.8/site-packages/selenium/webdriver/chromium/webdriver.py?line=91'>92</a>\u001b[0m \u001b[39mtry\u001b[39;00m:\n\u001b[0;32m---> <a href='file:///~/quant-fund/backtesting/venv/lib/python3.8/site-packages/selenium/webdriver/chromium/webdriver.py?line=92'>93</a>\u001b[0m     RemoteWebDriver\u001b[39m.\u001b[39;49m\u001b[39m__init__\u001b[39;49m(\n\u001b[1;32m     <a href='file:///~/quant-fund/backtesting/venv/lib/python3.8/site-packages/selenium/webdriver/chromium/webdriver.py?line=93'>94</a>\u001b[0m         \u001b[39mself\u001b[39;49m,\n\u001b[1;32m     <a href='file:///~/quant-fund/backtesting/venv/lib/python3.8/site-packages/selenium/webdriver/chromium/webdriver.py?line=94'>95</a>\u001b[0m         command_executor\u001b[39m=\u001b[39;49mChromiumRemoteConnection(\n\u001b[1;32m     <a href='file:///~/quant-fund/backtesting/venv/lib/python3.8/site-packages/selenium/webdriver/chromium/webdriver.py?line=95'>96</a>\u001b[0m             remote_server_addr\u001b[39m=\u001b[39;49m\u001b[39mself\u001b[39;49m\u001b[39m.\u001b[39;49mservice\u001b[39m.\u001b[39;49mservice_url,\n\u001b[1;32m     <a href='file:///~/quant-fund/backtesting/venv/lib/python3.8/site-packages/selenium/webdriver/chromium/webdriver.py?line=96'>97</a>\u001b[0m             browser_name\u001b[39m=\u001b[39;49mbrowser_name, vendor_prefix\u001b[39m=\u001b[39;49mvendor_prefix,\n\u001b[1;32m     <a href='file:///~/quant-fund/backtesting/venv/lib/python3.8/site-packages/selenium/webdriver/chromium/webdriver.py?line=97'>98</a>\u001b[0m             keep_alive\u001b[39m=\u001b[39;49mkeep_alive, ignore_proxy\u001b[39m=\u001b[39;49m_ignore_proxy),\n\u001b[1;32m     <a href='file:///~/quant-fund/backtesting/venv/lib/python3.8/site-packages/selenium/webdriver/chromium/webdriver.py?line=98'>99</a>\u001b[0m         options\u001b[39m=\u001b[39;49moptions)\n\u001b[1;32m    <a href='file:///~/quant-fund/backtesting/venv/lib/python3.8/site-packages/selenium/webdriver/chromium/webdriver.py?line=99'>100</a>\u001b[0m \u001b[39mexcept\u001b[39;00m \u001b[39mException\u001b[39;00m:\n\u001b[1;32m    <a href='file:///~/quant-fund/backtesting/venv/lib/python3.8/site-packages/selenium/webdriver/chromium/webdriver.py?line=100'>101</a>\u001b[0m     \u001b[39mself\u001b[39m\u001b[39m.\u001b[39mquit()\n",
      "File \u001b[0;32m~/quant-fund/backtesting/venv/lib/python3.8/site-packages/selenium/webdriver/remote/webdriver.py:269\u001b[0m, in \u001b[0;36mWebDriver.__init__\u001b[0;34m(self, command_executor, desired_capabilities, browser_profile, proxy, keep_alive, file_detector, options)\u001b[0m\n\u001b[1;32m    <a href='file:///~/quant-fund/backtesting/venv/lib/python3.8/site-packages/selenium/webdriver/remote/webdriver.py?line=266'>267</a>\u001b[0m \u001b[39mself\u001b[39m\u001b[39m.\u001b[39mfile_detector \u001b[39m=\u001b[39m file_detector \u001b[39mor\u001b[39;00m LocalFileDetector()\n\u001b[1;32m    <a href='file:///~/quant-fund/backtesting/venv/lib/python3.8/site-packages/selenium/webdriver/remote/webdriver.py?line=267'>268</a>\u001b[0m \u001b[39mself\u001b[39m\u001b[39m.\u001b[39mstart_client()\n\u001b[0;32m--> <a href='file:///~/quant-fund/backtesting/venv/lib/python3.8/site-packages/selenium/webdriver/remote/webdriver.py?line=268'>269</a>\u001b[0m \u001b[39mself\u001b[39;49m\u001b[39m.\u001b[39;49mstart_session(capabilities, browser_profile)\n",
      "File \u001b[0;32m~/quant-fund/backtesting/venv/lib/python3.8/site-packages/selenium/webdriver/remote/webdriver.py:360\u001b[0m, in \u001b[0;36mWebDriver.start_session\u001b[0;34m(self, capabilities, browser_profile)\u001b[0m\n\u001b[1;32m    <a href='file:///~/quant-fund/backtesting/venv/lib/python3.8/site-packages/selenium/webdriver/remote/webdriver.py?line=356'>357</a>\u001b[0m w3c_caps \u001b[39m=\u001b[39m _make_w3c_caps(capabilities)\n\u001b[1;32m    <a href='file:///~/quant-fund/backtesting/venv/lib/python3.8/site-packages/selenium/webdriver/remote/webdriver.py?line=357'>358</a>\u001b[0m parameters \u001b[39m=\u001b[39m {\u001b[39m\"\u001b[39m\u001b[39mcapabilities\u001b[39m\u001b[39m\"\u001b[39m: w3c_caps,\n\u001b[1;32m    <a href='file:///~/quant-fund/backtesting/venv/lib/python3.8/site-packages/selenium/webdriver/remote/webdriver.py?line=358'>359</a>\u001b[0m               \u001b[39m\"\u001b[39m\u001b[39mdesiredCapabilities\u001b[39m\u001b[39m\"\u001b[39m: capabilities}\n\u001b[0;32m--> <a href='file:///~/quant-fund/backtesting/venv/lib/python3.8/site-packages/selenium/webdriver/remote/webdriver.py?line=359'>360</a>\u001b[0m response \u001b[39m=\u001b[39m \u001b[39mself\u001b[39;49m\u001b[39m.\u001b[39;49mexecute(Command\u001b[39m.\u001b[39;49mNEW_SESSION, parameters)\n\u001b[1;32m    <a href='file:///~/quant-fund/backtesting/venv/lib/python3.8/site-packages/selenium/webdriver/remote/webdriver.py?line=360'>361</a>\u001b[0m \u001b[39mif\u001b[39;00m \u001b[39m'\u001b[39m\u001b[39msessionId\u001b[39m\u001b[39m'\u001b[39m \u001b[39mnot\u001b[39;00m \u001b[39min\u001b[39;00m response:\n\u001b[1;32m    <a href='file:///~/quant-fund/backtesting/venv/lib/python3.8/site-packages/selenium/webdriver/remote/webdriver.py?line=361'>362</a>\u001b[0m     response \u001b[39m=\u001b[39m response[\u001b[39m'\u001b[39m\u001b[39mvalue\u001b[39m\u001b[39m'\u001b[39m]\n",
      "File \u001b[0;32m~/quant-fund/backtesting/venv/lib/python3.8/site-packages/selenium/webdriver/remote/webdriver.py:425\u001b[0m, in \u001b[0;36mWebDriver.execute\u001b[0;34m(self, driver_command, params)\u001b[0m\n\u001b[1;32m    <a href='file:///~/quant-fund/backtesting/venv/lib/python3.8/site-packages/selenium/webdriver/remote/webdriver.py?line=422'>423</a>\u001b[0m response \u001b[39m=\u001b[39m \u001b[39mself\u001b[39m\u001b[39m.\u001b[39mcommand_executor\u001b[39m.\u001b[39mexecute(driver_command, params)\n\u001b[1;32m    <a href='file:///~/quant-fund/backtesting/venv/lib/python3.8/site-packages/selenium/webdriver/remote/webdriver.py?line=423'>424</a>\u001b[0m \u001b[39mif\u001b[39;00m response:\n\u001b[0;32m--> <a href='file:///~/quant-fund/backtesting/venv/lib/python3.8/site-packages/selenium/webdriver/remote/webdriver.py?line=424'>425</a>\u001b[0m     \u001b[39mself\u001b[39;49m\u001b[39m.\u001b[39;49merror_handler\u001b[39m.\u001b[39;49mcheck_response(response)\n\u001b[1;32m    <a href='file:///~/quant-fund/backtesting/venv/lib/python3.8/site-packages/selenium/webdriver/remote/webdriver.py?line=425'>426</a>\u001b[0m     response[\u001b[39m'\u001b[39m\u001b[39mvalue\u001b[39m\u001b[39m'\u001b[39m] \u001b[39m=\u001b[39m \u001b[39mself\u001b[39m\u001b[39m.\u001b[39m_unwrap_value(\n\u001b[1;32m    <a href='file:///~/quant-fund/backtesting/venv/lib/python3.8/site-packages/selenium/webdriver/remote/webdriver.py?line=426'>427</a>\u001b[0m         response\u001b[39m.\u001b[39mget(\u001b[39m'\u001b[39m\u001b[39mvalue\u001b[39m\u001b[39m'\u001b[39m, \u001b[39mNone\u001b[39;00m))\n\u001b[1;32m    <a href='file:///~/quant-fund/backtesting/venv/lib/python3.8/site-packages/selenium/webdriver/remote/webdriver.py?line=427'>428</a>\u001b[0m     \u001b[39mreturn\u001b[39;00m response\n",
      "File \u001b[0;32m~/quant-fund/backtesting/venv/lib/python3.8/site-packages/selenium/webdriver/remote/errorhandler.py:247\u001b[0m, in \u001b[0;36mErrorHandler.check_response\u001b[0;34m(self, response)\u001b[0m\n\u001b[1;32m    <a href='file:///~/quant-fund/backtesting/venv/lib/python3.8/site-packages/selenium/webdriver/remote/errorhandler.py?line=244'>245</a>\u001b[0m         alert_text \u001b[39m=\u001b[39m value[\u001b[39m'\u001b[39m\u001b[39malert\u001b[39m\u001b[39m'\u001b[39m]\u001b[39m.\u001b[39mget(\u001b[39m'\u001b[39m\u001b[39mtext\u001b[39m\u001b[39m'\u001b[39m)\n\u001b[1;32m    <a href='file:///~/quant-fund/backtesting/venv/lib/python3.8/site-packages/selenium/webdriver/remote/errorhandler.py?line=245'>246</a>\u001b[0m     \u001b[39mraise\u001b[39;00m exception_class(message, screen, stacktrace, alert_text)  \u001b[39m# type: ignore[call-arg]  # mypy is not smart enough here\u001b[39;00m\n\u001b[0;32m--> <a href='file:///~/quant-fund/backtesting/venv/lib/python3.8/site-packages/selenium/webdriver/remote/errorhandler.py?line=246'>247</a>\u001b[0m \u001b[39mraise\u001b[39;00m exception_class(message, screen, stacktrace)\n",
      "\u001b[0;31mWebDriverException\u001b[0m: Message: unknown error: cannot find Chrome binary\nStacktrace:\n#0 0x55c6ca782b33 <unknown>\n#1 0x55c6ca24b6d8 <unknown>\n#2 0x55c6ca26c7f9 <unknown>\n#3 0x55c6ca269fca <unknown>\n#4 0x55c6ca2a4e0a <unknown>\n#5 0x55c6ca29ef53 <unknown>\n#6 0x55c6ca274a0a <unknown>\n#7 0x55c6ca275ad5 <unknown>\n#8 0x55c6ca7b42fd <unknown>\n#9 0x55c6ca7cd4bb <unknown>\n#10 0x55c6ca7b60d5 <unknown>\n#11 0x55c6ca7ce145 <unknown>\n#12 0x55c6ca7a9aaf <unknown>\n#13 0x55c6ca7eaba8 <unknown>\n#14 0x55c6ca7ead28 <unknown>\n#15 0x55c6ca80548d <unknown>\n#16 0x7f86e6cb1609 <unknown>\n"
     ]
    }
   ],
   "source": [
    "options = webdriver.ChromeOptions()\n",
    "prefs = {'download.default_directory': \"./amarstock/\"}\n",
    "options.add_experimental_option(\"prefs\", prefs)\n",
    "options.headless = True\n",
    "driver = webdriver.Chrome(executable_path=\"/home/ubuntu/quant-fund/backtesting/chrome/chromedriver\", chrome_options=options)\n"
   ]
  },
  {
   "cell_type": "code",
   "execution_count": null,
   "metadata": {},
   "outputs": [],
   "source": []
  }
 ],
 "metadata": {
  "interpreter": {
   "hash": "be9ed0d7d8bcc8ce5c8fa05ffcfb736cc834fb351c82807799c10c658f6db9a3"
  },
  "kernelspec": {
   "display_name": "Python 3.8.10 ('venv': venv)",
   "language": "python",
   "name": "python3"
  },
  "language_info": {
   "codemirror_mode": {
    "name": "ipython",
    "version": 3
   },
   "file_extension": ".py",
   "mimetype": "text/x-python",
   "name": "python",
   "nbconvert_exporter": "python",
   "pygments_lexer": "ipython3",
   "version": "3.8.10"
  },
  "orig_nbformat": 4
 },
 "nbformat": 4,
 "nbformat_minor": 2
}
